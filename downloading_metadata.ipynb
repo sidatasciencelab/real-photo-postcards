{
 "cells": [
  {
   "cell_type": "code",
   "execution_count": 19,
   "metadata": {
    "execution": {
     "iopub.execute_input": "2022-04-15T17:41:24.126030Z",
     "iopub.status.busy": "2022-04-15T17:41:24.125715Z",
     "iopub.status.idle": "2022-04-15T17:41:24.141309Z",
     "shell.execute_reply": "2022-04-15T17:41:24.140426Z",
     "shell.execute_reply.started": "2022-04-15T17:41:24.125995Z"
    }
   },
   "outputs": [],
   "source": [
    "import requests\n",
    "from urllib.parse import urlencode\n",
    "import uuid\n",
    "import hashlib\n",
    "import base64\n",
    "from email.utils import formatdate\n",
    "import json\n",
    "from typing import Optional\n",
    "\n",
    "class EDAN:\n",
    "    edan_base = 'https://edan.si.edu/metadata/v2.0/collections/search.htm' \n",
    "    \n",
    "    def __init__(self, app_id, app_key):\n",
    "        self.app_id = app_id\n",
    "        self.app_key = app_key\n",
    "        self.session = requests.Session()\n",
    "    def query(self, \n",
    "              q: Optional[str] = None, fqs: Optional[dict] = None,\n",
    "              start:int = 0, rows:int = 10):\n",
    "        query_params = {'rows': rows,\n",
    "                        'start': start}\n",
    "        if fqs:\n",
    "            fq_json = json.dumps([f'{k}:\"{v}\"' for k, v in fqs.items()])\n",
    "            query_params['fqs'] = fq_json\n",
    "        if q:\n",
    "            query_params['q'] = q\n",
    "\n",
    "        query_param_string = urlencode(query_params)\n",
    "        \n",
    "        request_date = formatdate()\n",
    "        nonce = str(uuid.uuid4())\n",
    "        string_to_sign = '\\n'.join([nonce, query_param_string, request_date, \n",
    "                                    self.app_key])\n",
    "\n",
    "        hashed_string = hashlib.sha1(string_to_sign.encode()).hexdigest()\n",
    "        encoded_string = base64.b64encode(hashed_string.encode())\n",
    "        request_headers = {'X-AppId': self.app_id,\n",
    "                           'X-Nonce': nonce,\n",
    "                           'X-RequestDate': request_date,\n",
    "                           'X-AuthContent': encoded_string}\n",
    "\n",
    "        r = self.session.get(self.edan_base, params = query_params, \n",
    "                             headers = request_headers)\n",
    "        response_json = r.json()\n",
    "        return response_json\n",
    "    \n",
    "    def fetch_all(self, \n",
    "                  q: Optional[str] = None, fqs: Optional[dict] = None, \n",
    "                  step:int = 100):\n",
    "        results = []\n",
    "        quick_result = self.query(q=q,fqs=fqs, rows=1)\n",
    "        if 'rowCount' in quick_result:\n",
    "            result_count = quick_result['rowCount']\n",
    "        if result_count > 0:\n",
    "            for start in range(0, result_count, step):\n",
    "                edan_json = self.query(q=q,fqs=fqs, start=start, rows=step)\n",
    "                edan_rows = edan_json['rows']\n",
    "                results += edan_rows\n",
    "        return results"
   ]
  },
  {
   "cell_type": "code",
   "execution_count": 20,
   "metadata": {
    "execution": {
     "iopub.execute_input": "2022-04-15T17:41:25.090296Z",
     "iopub.status.busy": "2022-04-15T17:41:25.090003Z",
     "iopub.status.idle": "2022-04-15T17:41:25.097148Z",
     "shell.execute_reply": "2022-04-15T17:41:25.096409Z",
     "shell.execute_reply.started": "2022-04-15T17:41:25.090243Z"
    }
   },
   "outputs": [],
   "source": [
    "with open('../edan_api_key.json') as api_json:\n",
    "    edan_key = json.load(api_json)\n",
    "edan = EDAN(edan_key['APP_ID'], edan_key['APP_KEY'])"
   ]
  },
  {
   "cell_type": "code",
   "execution_count": 21,
   "metadata": {
    "execution": {
     "iopub.execute_input": "2022-04-15T17:41:26.226723Z",
     "iopub.status.busy": "2022-04-15T17:41:26.226395Z",
     "iopub.status.idle": "2022-04-15T17:41:26.230796Z",
     "shell.execute_reply": "2022-04-15T17:41:26.229775Z",
     "shell.execute_reply.started": "2022-04-15T17:41:26.226687Z"
    }
   },
   "outputs": [],
   "source": [
    "fq_dict = {\"unit_code\":\"NMAH\",\n",
    "           \"online_media_type\":\"Images\",\n",
    "           \"object_type\":\"real photo postcard\"}"
   ]
  },
  {
   "cell_type": "code",
   "execution_count": 22,
   "metadata": {
    "execution": {
     "iopub.execute_input": "2022-04-15T17:41:27.281174Z",
     "iopub.status.busy": "2022-04-15T17:41:27.280848Z",
     "iopub.status.idle": "2022-04-15T17:41:29.007608Z",
     "shell.execute_reply": "2022-04-15T17:41:29.004376Z",
     "shell.execute_reply.started": "2022-04-15T17:41:27.281140Z"
    }
   },
   "outputs": [],
   "source": [
    "edan_r = edan.query(fqs=fq_dict, rows=1)"
   ]
  },
  {
   "cell_type": "code",
   "execution_count": 23,
   "metadata": {
    "execution": {
     "iopub.execute_input": "2022-04-15T17:41:31.686742Z",
     "iopub.status.busy": "2022-04-15T17:41:31.686430Z",
     "iopub.status.idle": "2022-04-15T17:41:31.701887Z",
     "shell.execute_reply": "2022-04-15T17:41:31.701285Z",
     "shell.execute_reply.started": "2022-04-15T17:41:31.686709Z"
    }
   },
   "outputs": [
    {
     "data": {
      "text/plain": [
       "{'rows': [{'id': 'edanmdm-nmah_1888444',\n",
       "   'title': 'Two Men and a Woman Congregating Downtown',\n",
       "   'unitCode': 'NMAH',\n",
       "   'linkedId': '',\n",
       "   'type': 'edanmdm',\n",
       "   'url': 'edanmdm:nmah_1888444',\n",
       "   'content': {'descriptiveNonRepeating': {'record_ID': 'nmah_1888444',\n",
       "     'online_media': {'mediaCount': 2,\n",
       "      'media': [{'thumbnail': 'https://ids.si.edu/ids/deliveryService?id=NMAH-AHB2018q010241&max=150',\n",
       "        'idsId': 'NMAH-AHB2018q010241',\n",
       "        'usage': {'access': 'Not determined'},\n",
       "        'guid': 'http://n2t.net/ark:/65665/bq99ca746bd-f095-704b-e053-15f76fa0b4fa',\n",
       "        'type': 'Images',\n",
       "        'content': 'https://ids.si.edu/ids/deliveryService?id=NMAH-AHB2018q010241'},\n",
       "       {'thumbnail': 'https://ids.si.edu/ids/deliveryService?id=NMAH-AHB2018q010242&max=150',\n",
       "        'idsId': 'NMAH-AHB2018q010242',\n",
       "        'usage': {'access': 'Not determined'},\n",
       "        'guid': 'http://n2t.net/ark:/65665/bq99ca746bd-f096-704b-e053-15f76fa0b4fa',\n",
       "        'type': 'Images',\n",
       "        'content': 'https://ids.si.edu/ids/deliveryService?id=NMAH-AHB2018q010242'}]},\n",
       "     'unit_code': 'NMAH',\n",
       "     'title_sort': 'TWO MEN AND A WOMAN CONGREGATING DOWNTOWN',\n",
       "     'guid': 'http://n2t.net/ark:/65665/ng49ca746b3-d555-704b-e053-15f76fa0b4fa',\n",
       "     'title': {'label': 'Title',\n",
       "      'content': 'Two Men and a Woman Congregating Downtown'},\n",
       "     'metadata_usage': {'access': 'CC0'},\n",
       "     'data_source': 'National Museum of American History'},\n",
       "    'indexedStructured': {'object_type': ['real photo postcard'],\n",
       "     'topic': ['Photography'],\n",
       "     'online_media_type': ['Images']},\n",
       "    'freetext': {'setName': [{'label': 'See more items in',\n",
       "       'content': 'Work and Industry: Photographic History'},\n",
       "      {'label': 'See more items in', 'content': 'Photography'}],\n",
       "     'date': [{'label': 'date made', 'content': '6758'}],\n",
       "     'identifier': [{'label': 'ID Number', 'content': '1986.0711.0621'},\n",
       "      {'label': 'catalog number', 'content': '1986.0711.0621'},\n",
       "      {'label': 'accession number', 'content': '1986.0711'}],\n",
       "     'notes': [{'label': 'Location', 'content': 'Currently not on view'}],\n",
       "     'physicalDescription': [{'label': 'Physical Description',\n",
       "       'content': 'paper (overall material)'},\n",
       "      {'label': 'Measurements',\n",
       "       'content': 'overall: 10 cm x 6.5 cm; 3 15/16 in x 2 9/16 in'}],\n",
       "     'dataSource': [{'label': 'Data Source',\n",
       "       'content': 'National Museum of American History'}],\n",
       "     'objectType': [{'label': 'Object Name',\n",
       "       'content': 'real photo postcard'}]}},\n",
       "   'hash': '1316d602b833e23c948e98b0bc2c2172f3799705',\n",
       "   'docSignature': '3c0268953a232de83d1de90629b8ebd8',\n",
       "   'timestamp': '1643399121',\n",
       "   'lastTimeUpdated': '1643734284',\n",
       "   'status': 0,\n",
       "   'version': '',\n",
       "   'publicSearch': True,\n",
       "   'linkedContent': {}}],\n",
       " 'facetQueries': {},\n",
       " 'facets': {'culture': [['African Americans', 17],\n",
       "   ['Indians of North America', 9],\n",
       "   ['Native Americans', 9],\n",
       "   ['Chinese', 1],\n",
       "   ['Romanies', 1]],\n",
       "  'date': [['1900s', 1157],\n",
       "   ['1910s', 133],\n",
       "   ['1920s', 13],\n",
       "   ['1930s', 12],\n",
       "   ['1940s', 9],\n",
       "   ['1950s', 6],\n",
       "   ['1860s', 1],\n",
       "   ['1870s', 1],\n",
       "   ['1880s', 1],\n",
       "   ['1890s', 1],\n",
       "   ['1960s', 1],\n",
       "   ['1970s', 1],\n",
       "   ['1980s', 1]],\n",
       "  'object_type': [['real photo postcard', 1431],\n",
       "   ['photographic postcard', 111],\n",
       "   ['Postcards', 4],\n",
       "   ['photographic post card', 3],\n",
       "   ['Photographs', 1],\n",
       "   ['exaggerated postcard', 1],\n",
       "   ['gelatin silver print', 1],\n",
       "   ['photo postcard', 1],\n",
       "   ['selfie', 1]],\n",
       "  'online_media_type': [['Images', 1431]],\n",
       "  'online_visual_material': [['true', 1431]],\n",
       "  'place': [['United States', 302],\n",
       "   ['Pennsylvania', 47],\n",
       "   ['District of Columbia', 28],\n",
       "   ['New York', 25],\n",
       "   ['Washington', 24],\n",
       "   ['California', 23],\n",
       "   ['Michigan', 17],\n",
       "   ['Illinois', 16],\n",
       "   ['New Jersey', 15],\n",
       "   ['Ohio', 13],\n",
       "   ['Virginia', 12],\n",
       "   ['Wisconsin', 12],\n",
       "   ['Florida', 11],\n",
       "   ['Maryland', 11],\n",
       "   ['Atlantic City', 10],\n",
       "   ['Kansas', 9],\n",
       "   ['New York City', 8],\n",
       "   ['Canada', 7],\n",
       "   ['Colorado', 7],\n",
       "   ['Oregon', 7]],\n",
       "  'set_name': [['Work and Industry: Photographic History', 1431],\n",
       "   ['Photography', 1396],\n",
       "   ['Military', 41],\n",
       "   ['Music & Musical Instruments', 13],\n",
       "   ['Work', 9],\n",
       "   ['Religion', 8],\n",
       "   ['Agriculture', 7],\n",
       "   ['Family & Social Life', 4],\n",
       "   ['Food', 3],\n",
       "   ['Transportation', 3],\n",
       "   ['Sports & Leisure', 2],\n",
       "   ['Domestic Furnishings', 1]],\n",
       "  'topic': [['Photography', 1396],\n",
       "   ['Children', 203],\n",
       "   ['Animals', 114],\n",
       "   ['Horses', 66],\n",
       "   ['Women', 52],\n",
       "   ['Military', 41],\n",
       "   ['Men', 38],\n",
       "   ['Uniforms, Military', 30],\n",
       "   ['Architecture', 27],\n",
       "   ['Dogs', 25],\n",
       "   ['Farms', 22],\n",
       "   ['Portraits', 22],\n",
       "   ['Carriages', 21],\n",
       "   ['Older people', 21],\n",
       "   ['Uniforms', 21],\n",
       "   ['Flags', 20],\n",
       "   ['Family', 17],\n",
       "   ['Automobiles', 16],\n",
       "   ['Farmers and Ranchers', 15],\n",
       "   ['Railroads', 15]],\n",
       "  'type': [['edanmdm', 1431]],\n",
       "  'unit_code': [['NMAH', 1431]],\n",
       "  'p.edanmdm.indexedstructured.common_name': [['Elephants', 1]],\n",
       "  'p.edanmdm.indexedstructured.exhibition_building': [],\n",
       "  'p.edanmdm.indexedstructured.name': [['Maynard, Frank', 7],\n",
       "   ['American Legion', 1],\n",
       "   ['Avedon, Richard', 1],\n",
       "   ['Dreamland Post Card Studio', 1],\n",
       "   ['Harris Brothers Co.', 1],\n",
       "   ['L. L. Cook Company', 1],\n",
       "   ['Lindbergh, Charles A.', 1],\n",
       "   ['Martin, W. H.', 1],\n",
       "   ['Ringling Brothers', 1],\n",
       "   ['Ringling Brothers and Barnum and Bailey Circus', 1],\n",
       "   ['Rotary Photographic Co.', 1],\n",
       "   ['Standard Oil', 1],\n",
       "   ['Union Pacific Railroad Company', 1],\n",
       "   ['United States. Navy', 1],\n",
       "   ['Wilhelm II King of Prussia and Emperor of Germany', 1],\n",
       "   ['Younger, Helen Walcott', 1]],\n",
       "  'p.edanmdm.descriptivenonrepeating.data_source': [['National Museum of American History',\n",
       "    1431]],\n",
       "  'p.edanmdm.indexedstructured.geo_age-era': [],\n",
       "  'p.edanmdm.indexedstructured.geo_age-series': [],\n",
       "  'p.edanmdm.indexedstructured.geo_age-stage': [],\n",
       "  'p.edanmdm.indexedstructured.geo_age-system': [],\n",
       "  'p.edanmdm.indexedstructured.language': [],\n",
       "  'p.edanmdm.indexedstructured.occupation': [],\n",
       "  'p.edanmdm.indexedstructured.onphysicalexhibit': [],\n",
       "  'p.edanmdm.indexedstructured.scientific_name': [],\n",
       "  'p.edanmdm.indexedstructured.strat_formation': [],\n",
       "  'p.edanmdm.indexedstructured.strat_group': [],\n",
       "  'p.edanmdm.indexedstructured.strat_member': [],\n",
       "  'p.edanmdm.indexedstructured.tax_class': [['Mammalia', 1]],\n",
       "  'p.edanmdm.indexedstructured.tax_division': [],\n",
       "  'p.edanmdm.indexedstructured.tax_family': [['Elephantidae', 1]],\n",
       "  'p.edanmdm.indexedstructured.tax_kingdom': [['Animalia', 1]],\n",
       "  'p.edanmdm.indexedstructured.tax_order': [['Proboscidea', 1]],\n",
       "  'p.edanmdm.indexedstructured.tax_phylum': [['Chordata', 1]],\n",
       "  'p.edanmdm.indexedstructured.tax_sub-family': []},\n",
       " 'start': 0,\n",
       " 'rowCount': 1431}"
      ]
     },
     "execution_count": 23,
     "metadata": {},
     "output_type": "execute_result"
    }
   ],
   "source": [
    "edan_r"
   ]
  },
  {
   "cell_type": "code",
   "execution_count": 24,
   "metadata": {
    "execution": {
     "iopub.execute_input": "2022-04-15T17:42:38.088255Z",
     "iopub.status.busy": "2022-04-15T17:42:38.088015Z",
     "iopub.status.idle": "2022-04-15T17:43:11.960967Z",
     "shell.execute_reply": "2022-04-15T17:43:11.957724Z",
     "shell.execute_reply.started": "2022-04-15T17:42:38.088232Z"
    }
   },
   "outputs": [
    {
     "data": {
      "text/plain": [
       "1431"
      ]
     },
     "execution_count": 24,
     "metadata": {},
     "output_type": "execute_result"
    }
   ],
   "source": [
    "postcard_results = edan.fetch_all(fqs=fq_dict)\n",
    "len(postcard_results)"
   ]
  },
  {
   "cell_type": "code",
   "execution_count": 25,
   "metadata": {
    "execution": {
     "iopub.execute_input": "2022-04-15T17:43:26.562337Z",
     "iopub.status.busy": "2022-04-15T17:43:26.561924Z",
     "iopub.status.idle": "2022-04-15T17:43:26.571195Z",
     "shell.execute_reply": "2022-04-15T17:43:26.570410Z",
     "shell.execute_reply.started": "2022-04-15T17:43:26.562302Z"
    }
   },
   "outputs": [
    {
     "data": {
      "text/plain": [
       "{'id': 'edanmdm-nmah_1888540',\n",
       " 'title': 'Man and woman Sitting on Beach Chairs by a Restaurant, Mountains in the Background',\n",
       " 'unitCode': 'NMAH',\n",
       " 'linkedId': '',\n",
       " 'type': 'edanmdm',\n",
       " 'url': 'edanmdm:nmah_1888540',\n",
       " 'content': {'descriptiveNonRepeating': {'record_ID': 'nmah_1888540',\n",
       "   'online_media': {'mediaCount': 2,\n",
       "    'media': [{'thumbnail': 'https://ids.si.edu/ids/deliveryService?id=NMAH-AHB2018q010599&max=150',\n",
       "      'idsId': 'NMAH-AHB2018q010599',\n",
       "      'usage': {'access': 'Not determined'},\n",
       "      'guid': 'http://n2t.net/ark:/65665/bq99ca746bd-a77b-704b-e053-15f76fa0b4fa',\n",
       "      'type': 'Images',\n",
       "      'content': 'https://ids.si.edu/ids/deliveryService?id=NMAH-AHB2018q010599'},\n",
       "     {'thumbnail': 'https://ids.si.edu/ids/deliveryService?id=NMAH-AHB2018q010600&max=150',\n",
       "      'idsId': 'NMAH-AHB2018q010600',\n",
       "      'usage': {'access': 'Not determined'},\n",
       "      'guid': 'http://n2t.net/ark:/65665/bq99ca746bd-a77c-704b-e053-15f76fa0b4fa',\n",
       "      'type': 'Images',\n",
       "      'content': 'https://ids.si.edu/ids/deliveryService?id=NMAH-AHB2018q010600'}]},\n",
       "   'unit_code': 'NMAH',\n",
       "   'title_sort': 'MAN AND WOMAN SITTING ON BEACH CHAIRS BY A RESTAURANT, MOUNTAINS IN THE BACKGROUND',\n",
       "   'guid': 'http://n2t.net/ark:/65665/ng49ca746b3-d81b-704b-e053-15f76fa0b4fa',\n",
       "   'title': {'label': 'Title',\n",
       "    'content': 'Man and woman Sitting on Beach Chairs by a Restaurant, Mountains in the Background'},\n",
       "   'metadata_usage': {'access': 'CC0'},\n",
       "   'data_source': 'National Museum of American History'},\n",
       "  'indexedStructured': {'date': ['1930s'],\n",
       "   'object_type': ['real photo postcard'],\n",
       "   'topic': ['Photography'],\n",
       "   'online_media_type': ['Images']},\n",
       "  'freetext': {'setName': [{'label': 'See more items in',\n",
       "     'content': 'Work and Industry: Photographic History'},\n",
       "    {'label': 'See more items in', 'content': 'Photography'}],\n",
       "   'date': [{'label': 'date made', 'content': '1934'}],\n",
       "   'identifier': [{'label': 'ID Number', 'content': '1986.3048.0856'},\n",
       "    {'label': 'catalog number', 'content': '1986.3048.0856'},\n",
       "    {'label': 'nonaccession number', 'content': '1986.3048'}],\n",
       "   'notes': [{'label': 'Location', 'content': 'Currently not on view'}],\n",
       "   'physicalDescription': [{'label': 'Physical Description',\n",
       "     'content': 'paper (overall material)'},\n",
       "    {'label': 'Measurements',\n",
       "     'content': 'overall: 8.5 cm x 13.5 cm; 3 11/32 in x 5 5/16 in'}],\n",
       "   'dataSource': [{'label': 'Data Source',\n",
       "     'content': 'National Museum of American History'}],\n",
       "   'objectType': [{'label': 'Object Name',\n",
       "     'content': 'real photo postcard'}]}},\n",
       " 'hash': '1585dbdf4faec86d291546a5ffb1d53e36b9bf1e',\n",
       " 'docSignature': 'ac0b9931decc1f205cca41c18628a31c',\n",
       " 'timestamp': '1643399121',\n",
       " 'lastTimeUpdated': '1643734284',\n",
       " 'status': 0,\n",
       " 'version': '',\n",
       " 'publicSearch': True,\n",
       " 'linkedContent': {}}"
      ]
     },
     "execution_count": 25,
     "metadata": {},
     "output_type": "execute_result"
    }
   ],
   "source": [
    "postcard_results[5]"
   ]
  },
  {
   "cell_type": "code",
   "execution_count": 26,
   "metadata": {
    "execution": {
     "iopub.execute_input": "2022-04-15T17:45:18.211802Z",
     "iopub.status.busy": "2022-04-15T17:45:18.211123Z",
     "iopub.status.idle": "2022-04-15T17:45:18.492930Z",
     "shell.execute_reply": "2022-04-15T17:45:18.491615Z",
     "shell.execute_reply.started": "2022-04-15T17:45:18.211744Z"
    }
   },
   "outputs": [],
   "source": [
    "with open('postcard_edan_metadata.json','w') as json_out:\n",
    "    json.dump(postcard_results, json_out)"
   ]
  },
  {
   "cell_type": "code",
   "execution_count": null,
   "metadata": {},
   "outputs": [],
   "source": []
  }
 ],
 "metadata": {
  "kernelspec": {
   "display_name": "Python 3 (ipykernel)",
   "language": "python",
   "name": "python3"
  },
  "language_info": {
   "codemirror_mode": {
    "name": "ipython",
    "version": 3
   },
   "file_extension": ".py",
   "mimetype": "text/x-python",
   "name": "python",
   "nbconvert_exporter": "python",
   "pygments_lexer": "ipython3",
   "version": "3.9.6"
  }
 },
 "nbformat": 4,
 "nbformat_minor": 4
}
